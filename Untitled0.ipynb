{
  "nbformat": 4,
  "nbformat_minor": 0,
  "metadata": {
    "colab": {
      "provenance": [],
      "authorship_tag": "ABX9TyOhYuSmtb4E0C3ncwmInfpa",
      "include_colab_link": true
    },
    "kernelspec": {
      "name": "python3",
      "display_name": "Python 3"
    },
    "language_info": {
      "name": "python"
    }
  },
  "cells": [
    {
      "cell_type": "markdown",
      "metadata": {
        "id": "view-in-github",
        "colab_type": "text"
      },
      "source": [
        "<a href=\"https://colab.research.google.com/github/sherifmoh/Deci/blob/main/Untitled0.ipynb\" target=\"_parent\"><img src=\"https://colab.research.google.com/assets/colab-badge.svg\" alt=\"Open In Colab\"/></a>"
      ]
    },
    {
      "cell_type": "code",
      "execution_count": null,
      "metadata": {
        "id": "PiqOxLKsc-33"
      },
      "outputs": [],
      "source": []
    },
    {
      "cell_type": "code",
      "source": [
        "# initialize list\n",
        "test_list = ['DECI ', 'Week ', '14']\n",
        " \n",
        "# printing original list\n",
        "print(\"The original list : \" + str(test_list))\n",
        " \n",
        "# Convert String list to ascii values\n",
        "# using loop + ord()\n",
        "res = []\n",
        "for ele in test_list:\n",
        "    res.extend(ord(num) for num in ele)\n",
        " \n",
        "# printing result\n",
        "print(\"The ascii list is : \" + str(res))"
      ],
      "metadata": {
        "id": "oAijfMWY6JZL",
        "outputId": "06622c76-aa71-4f41-ba95-b915c700025e",
        "colab": {
          "base_uri": "https://localhost:8080/"
        }
      },
      "execution_count": 1,
      "outputs": [
        {
          "output_type": "stream",
          "name": "stdout",
          "text": [
            "The original list : ['DECI ', 'Week ', '14']\n",
            "The ascii list is : [68, 69, 67, 73, 32, 87, 101, 101, 107, 32, 49, 52]\n"
          ]
        }
      ]
    },
    {
      "cell_type": "code",
      "source": [],
      "metadata": {
        "id": "9AZ4wdR2dRsF"
      },
      "execution_count": null,
      "outputs": []
    },
    {
      "cell_type": "code",
      "source": [
        "# Input list\n",
        "lst = [68, 69, 67, 73, 32, 87,\n",
        "        101, 101, 107, 32, 49, 52]\n",
        "\n",
        "# Printing initial list\n",
        "print (\"Input list\", lst)\n",
        " \n",
        "# Using chr() Method\n",
        "res = \"\"\n",
        "for i in lst:\n",
        "    res = res + chr(i)\n",
        " \n",
        "print (\"String : \", str(res))"
      ],
      "metadata": {
        "id": "aWGLXM4j7HA3",
        "outputId": "b786b9e2-e225-45e8-aca8-42d8dfa88268",
        "colab": {
          "base_uri": "https://localhost:8080/"
        }
      },
      "execution_count": 2,
      "outputs": [
        {
          "output_type": "stream",
          "name": "stdout",
          "text": [
            "Input list [68, 69, 67, 73, 32, 87, 101, 101, 107, 32, 49, 52]\n",
            "String :  DECI Week 14\n"
          ]
        }
      ]
    }
  ]
}